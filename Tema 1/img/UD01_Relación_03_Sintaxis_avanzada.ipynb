{
  "nbformat": 4,
  "nbformat_minor": 0,
  "metadata": {
    "colab": {
      "provenance": []
    },
    "kernelspec": {
      "name": "python3",
      "display_name": "Python 3"
    },
    "language_info": {
      "name": "python"
    }
  },
  "cells": [
    {
      "cell_type": "markdown",
      "source": [
        "# 📘 Relación de Ejercicios: Listas, Tuplas, Diccionarios y Funciones\n",
        "---\n",
        "\n",
        "\n"
      ],
      "metadata": {
        "id": "9bq1BTeio06w"
      }
    },
    {
      "cell_type": "markdown",
      "source": [
        "## 9. Listas\n",
        "1. Crea una lista con los nombres de tus 5 asignaturas y muéstrala.  \n",
        "2. Accede al primer y último elemento de la lista.  \n",
        "3. Añade un elemento a la lista y elimina otro.  \n",
        "4. Ordena una lista de números `[5, 2, 9, 1, 7]`.  \n",
        "5. Recorre la lista de asignaturas con un `for` e imprímelas una a una.  "
      ],
      "metadata": {
        "id": "Mq3JpHywy8S7"
      }
    },
    {
      "cell_type": "code",
      "source": [],
      "metadata": {
        "id": "r2vdnkoao63x"
      },
      "execution_count": null,
      "outputs": []
    },
    {
      "cell_type": "markdown",
      "source": [
        "## 10. Tuplas\n",
        "1. Crea una tupla con los días de la semana.  \n",
        "2. Muestra el tercer día de la semana accediendo por índice.  \n",
        "3. Intenta modificar un elemento de la tupla y explica qué ocurre.  \n",
        "4. Convierte la tupla en una lista y añade un día extra.  \n",
        "5. Recorre la tupla con un `for` y muestra todos sus elementos."
      ],
      "metadata": {
        "id": "JjJRcMjBpDT_"
      }
    },
    {
      "cell_type": "code",
      "source": [],
      "metadata": {
        "id": "UlKeQSnzpDqP"
      },
      "execution_count": null,
      "outputs": []
    },
    {
      "cell_type": "markdown",
      "source": [
        "## 11. Diccionarios\n",
        "1. Crea un diccionario con información de una persona: `nombre`, `edad`, `ciudad`.  \n",
        "2. Accede al valor de `edad` y muéstralo.  \n",
        "3. Añade una nueva clave `profesion` al diccionario.  \n",
        "4. Modifica el valor de `ciudad` en el diccionario.  \n",
        "5. Recorre el diccionario mostrando todas sus claves y valores.  \n",
        "6. Comprueba si existe la clave `telefono` en el diccionario."
      ],
      "metadata": {
        "id": "-yhUV0p6pD5n"
      }
    },
    {
      "cell_type": "code",
      "source": [],
      "metadata": {
        "id": "30QgZ8hMpEIn"
      },
      "execution_count": null,
      "outputs": []
    },
    {
      "cell_type": "markdown",
      "source": [
        "## 12. Funciones\n",
        "1. Escribe una función que reciba dos números y devuelva su suma.  \n",
        "2. Crea una función que pida el nombre de una persona y lo salude."
      ],
      "metadata": {
        "id": "f7Ig7chGpEj_"
      }
    },
    {
      "cell_type": "code",
      "source": [],
      "metadata": {
        "id": "A_KHpAaEpFAn"
      },
      "execution_count": null,
      "outputs": []
    }
  ]
}